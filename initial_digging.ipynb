{
 "cells": [
  {
   "cell_type": "markdown",
   "metadata": {},
   "source": [
    "# Prisoner's dilemma"
   ]
  },
  {
   "cell_type": "markdown",
   "metadata": {},
   "source": [
    "### Game"
   ]
  },
  {
   "cell_type": "code",
   "execution_count": 1,
   "metadata": {},
   "outputs": [
    {
     "data": {
      "text/plain": [
       "((3, 3), (1, 1), (0, 5), (5, 0))"
      ]
     },
     "execution_count": 1,
     "metadata": {},
     "output_type": "execute_result"
    }
   ],
   "source": [
    "def game(\n",
    "    is_1_corporate: bool, \n",
    "    is_2_corporate: bool,\n",
    ") -> tuple:\n",
    "  \n",
    "  if is_1_corporate and is_2_corporate:\n",
    "    return 3,3\n",
    "  elif is_1_corporate and not is_2_corporate:\n",
    "    return 0,5\n",
    "  elif not is_1_corporate and is_2_corporate:\n",
    "    return 5,0\n",
    "  else:\n",
    "    return 1,1\n",
    "\n",
    "game(True, True), game(False, False), game(True, False), game(False, True)"
   ]
  },
  {
   "cell_type": "markdown",
   "metadata": {},
   "source": [
    "### Match"
   ]
  },
  {
   "cell_type": "code",
   "execution_count": 2,
   "metadata": {},
   "outputs": [
    {
     "name": "stdout",
     "output_type": "stream",
     "text": [
      "\u001b[41m5\u001b[0m, \u001b[41m1\u001b[0m, \u001b[42m3\u001b[0m, := 9\n",
      "\u001b[42m0\u001b[0m, \u001b[41m1\u001b[0m, \u001b[42m3\u001b[0m, := 4\n"
     ]
    }
   ],
   "source": [
    "from termcolor import colored\n",
    "\n",
    "def match(\n",
    "        num_games: int, \n",
    "        p1_moves:list, \n",
    "        p2_moves=list,\n",
    "        print_match=True,\n",
    "    )-> tuple:\n",
    "\n",
    "    assert num_games > 0\n",
    "    assert len(p1_moves) == num_games\n",
    "    assert len(p2_moves) == num_games\n",
    "\n",
    "    total_p1, total_p2 = 0, 0\n",
    "    p1_points, p2_points = [], []\n",
    "    for i in range(num_games):\n",
    "        p1, p2 = game(p1_moves[i], p2_moves[i])\n",
    "        p1_points.append(p1)\n",
    "        p2_points.append(p2)\n",
    "        total_p1 += p1\n",
    "        total_p2 += p2\n",
    "    \n",
    "    if print_match:\n",
    "        for i in range(num_games):\n",
    "            print(f\"{colored(p1_points[i], on_color=get_on_color(p1_moves[i]))}, \", end=\"\")\n",
    "        print(f':= {total_p1}')\n",
    "        for i in range(num_games):\n",
    "            print(f\"{colored(p2_points[i], on_color=get_on_color(p2_moves[i]))}, \", end=\"\")\n",
    "        print(f':= {total_p2}')\n",
    "    \n",
    "    return total_p1, total_p2\n",
    "\n",
    "def get_on_color(choice: bool):\n",
    "    return 'on_green' if choice else 'on_red'\n",
    "\n",
    "p1, p2 = match(3,\n",
    "      [False, False, True],\n",
    "      [True, False, True])"
   ]
  },
  {
   "cell_type": "markdown",
   "metadata": {},
   "source": [
    "### Strategy"
   ]
  },
  {
   "cell_type": "code",
   "execution_count": 31,
   "metadata": {},
   "outputs": [],
   "source": [
    "NUM_GAMES = 20\n",
    "\n",
    "def match_strategies(\n",
    "        s1, s2,\n",
    "        num_games = NUM_GAMES,\n",
    "        print_match=True,\n",
    "):\n",
    "    p1_moves, p2_moves = [], []\n",
    "\n",
    "    for move_num in range(num_games):\n",
    "        p1 = s1(p1_moves, p2_moves, move_num, num_games)\n",
    "        p2 = s2(p2_moves, p1_moves, move_num, num_games)\n",
    "\n",
    "        p1_moves.append(p1)\n",
    "        p2_moves.append(p2)\n",
    "    \n",
    "    print(f'{s1.__name__} vs {s2.__name__}')\n",
    "    p1_score, p2_score = match(num_games, p1_moves, p2_moves, print_match)\n",
    "\n",
    "    return p1_score, p2_score\n"
   ]
  },
  {
   "cell_type": "code",
   "execution_count": 32,
   "metadata": {},
   "outputs": [
    {
     "name": "stdout",
     "output_type": "stream",
     "text": [
      "full_coorporate vs full_defect\n",
      "\u001b[42m0\u001b[0m, \u001b[42m0\u001b[0m, \u001b[42m0\u001b[0m, \u001b[42m0\u001b[0m, \u001b[42m0\u001b[0m, \u001b[42m0\u001b[0m, \u001b[42m0\u001b[0m, \u001b[42m0\u001b[0m, \u001b[42m0\u001b[0m, \u001b[42m0\u001b[0m, \u001b[42m0\u001b[0m, \u001b[42m0\u001b[0m, \u001b[42m0\u001b[0m, \u001b[42m0\u001b[0m, \u001b[42m0\u001b[0m, \u001b[42m0\u001b[0m, \u001b[42m0\u001b[0m, \u001b[42m0\u001b[0m, \u001b[42m0\u001b[0m, \u001b[42m0\u001b[0m, := 0\n",
      "\u001b[41m5\u001b[0m, \u001b[41m5\u001b[0m, \u001b[41m5\u001b[0m, \u001b[41m5\u001b[0m, \u001b[41m5\u001b[0m, \u001b[41m5\u001b[0m, \u001b[41m5\u001b[0m, \u001b[41m5\u001b[0m, \u001b[41m5\u001b[0m, \u001b[41m5\u001b[0m, \u001b[41m5\u001b[0m, \u001b[41m5\u001b[0m, \u001b[41m5\u001b[0m, \u001b[41m5\u001b[0m, \u001b[41m5\u001b[0m, \u001b[41m5\u001b[0m, \u001b[41m5\u001b[0m, \u001b[41m5\u001b[0m, \u001b[41m5\u001b[0m, \u001b[41m5\u001b[0m, := 100\n"
     ]
    },
    {
     "data": {
      "text/plain": [
       "(0, 100)"
      ]
     },
     "execution_count": 32,
     "metadata": {},
     "output_type": "execute_result"
    }
   ],
   "source": [
    "def full_coorporate(my_moves, opp_moves, move_num, total_moves):\n",
    "    return True\n",
    "\n",
    "def full_defect(my_moves, opp_moves, move_num, total_moves):\n",
    "    return False\n",
    "\n",
    "\n",
    "match_strategies(full_coorporate, full_defect)"
   ]
  },
  {
   "cell_type": "code",
   "execution_count": 33,
   "metadata": {},
   "outputs": [
    {
     "name": "stdout",
     "output_type": "stream",
     "text": [
      "full_coorporate vs full_coorporate\n",
      "\u001b[42m3\u001b[0m, \u001b[42m3\u001b[0m, \u001b[42m3\u001b[0m, \u001b[42m3\u001b[0m, \u001b[42m3\u001b[0m, \u001b[42m3\u001b[0m, \u001b[42m3\u001b[0m, \u001b[42m3\u001b[0m, \u001b[42m3\u001b[0m, \u001b[42m3\u001b[0m, \u001b[42m3\u001b[0m, \u001b[42m3\u001b[0m, \u001b[42m3\u001b[0m, \u001b[42m3\u001b[0m, \u001b[42m3\u001b[0m, \u001b[42m3\u001b[0m, \u001b[42m3\u001b[0m, \u001b[42m3\u001b[0m, \u001b[42m3\u001b[0m, \u001b[42m3\u001b[0m, := 60\n",
      "\u001b[42m3\u001b[0m, \u001b[42m3\u001b[0m, \u001b[42m3\u001b[0m, \u001b[42m3\u001b[0m, \u001b[42m3\u001b[0m, \u001b[42m3\u001b[0m, \u001b[42m3\u001b[0m, \u001b[42m3\u001b[0m, \u001b[42m3\u001b[0m, \u001b[42m3\u001b[0m, \u001b[42m3\u001b[0m, \u001b[42m3\u001b[0m, \u001b[42m3\u001b[0m, \u001b[42m3\u001b[0m, \u001b[42m3\u001b[0m, \u001b[42m3\u001b[0m, \u001b[42m3\u001b[0m, \u001b[42m3\u001b[0m, \u001b[42m3\u001b[0m, \u001b[42m3\u001b[0m, := 60\n"
     ]
    },
    {
     "data": {
      "text/plain": [
       "(60, 60)"
      ]
     },
     "execution_count": 33,
     "metadata": {},
     "output_type": "execute_result"
    }
   ],
   "source": [
    "match_strategies(full_coorporate, full_coorporate)"
   ]
  },
  {
   "cell_type": "code",
   "execution_count": 34,
   "metadata": {},
   "outputs": [],
   "source": [
    "import random\n",
    "\n",
    "def randomly(my_moves, opp_moves, move_num, total_moves):\n",
    "    return random.choice([True, False])\n"
   ]
  },
  {
   "cell_type": "code",
   "execution_count": 35,
   "metadata": {},
   "outputs": [
    {
     "name": "stdout",
     "output_type": "stream",
     "text": [
      "randomly vs randomly\n",
      "\u001b[42m3\u001b[0m, \u001b[42m3\u001b[0m, \u001b[41m1\u001b[0m, \u001b[41m5\u001b[0m, \u001b[41m5\u001b[0m, \u001b[41m1\u001b[0m, \u001b[42m3\u001b[0m, \u001b[41m5\u001b[0m, \u001b[42m0\u001b[0m, \u001b[41m1\u001b[0m, \u001b[42m0\u001b[0m, \u001b[41m1\u001b[0m, \u001b[42m0\u001b[0m, \u001b[41m5\u001b[0m, \u001b[41m1\u001b[0m, \u001b[41m1\u001b[0m, \u001b[41m1\u001b[0m, \u001b[41m1\u001b[0m, \u001b[42m0\u001b[0m, \u001b[41m5\u001b[0m, := 42\n",
      "\u001b[42m3\u001b[0m, \u001b[42m3\u001b[0m, \u001b[41m1\u001b[0m, \u001b[42m0\u001b[0m, \u001b[42m0\u001b[0m, \u001b[41m1\u001b[0m, \u001b[42m3\u001b[0m, \u001b[42m0\u001b[0m, \u001b[41m5\u001b[0m, \u001b[41m1\u001b[0m, \u001b[41m5\u001b[0m, \u001b[41m1\u001b[0m, \u001b[41m5\u001b[0m, \u001b[42m0\u001b[0m, \u001b[41m1\u001b[0m, \u001b[41m1\u001b[0m, \u001b[41m1\u001b[0m, \u001b[41m1\u001b[0m, \u001b[41m5\u001b[0m, \u001b[42m0\u001b[0m, := 37\n"
     ]
    },
    {
     "data": {
      "text/plain": [
       "(42, 37)"
      ]
     },
     "execution_count": 35,
     "metadata": {},
     "output_type": "execute_result"
    }
   ],
   "source": [
    "match_strategies(randomly, randomly)"
   ]
  },
  {
   "cell_type": "code",
   "execution_count": 36,
   "metadata": {},
   "outputs": [
    {
     "name": "stdout",
     "output_type": "stream",
     "text": [
      "randomly vs full_defect\n",
      "\u001b[42m0\u001b[0m, \u001b[42m0\u001b[0m, \u001b[41m1\u001b[0m, \u001b[42m0\u001b[0m, \u001b[41m1\u001b[0m, \u001b[41m1\u001b[0m, \u001b[41m1\u001b[0m, \u001b[42m0\u001b[0m, \u001b[41m1\u001b[0m, \u001b[41m1\u001b[0m, \u001b[42m0\u001b[0m, \u001b[41m1\u001b[0m, \u001b[42m0\u001b[0m, \u001b[42m0\u001b[0m, \u001b[42m0\u001b[0m, \u001b[42m0\u001b[0m, \u001b[42m0\u001b[0m, \u001b[42m0\u001b[0m, \u001b[41m1\u001b[0m, \u001b[41m1\u001b[0m, := 9\n",
      "\u001b[41m5\u001b[0m, \u001b[41m5\u001b[0m, \u001b[41m1\u001b[0m, \u001b[41m5\u001b[0m, \u001b[41m1\u001b[0m, \u001b[41m1\u001b[0m, \u001b[41m1\u001b[0m, \u001b[41m5\u001b[0m, \u001b[41m1\u001b[0m, \u001b[41m1\u001b[0m, \u001b[41m5\u001b[0m, \u001b[41m1\u001b[0m, \u001b[41m5\u001b[0m, \u001b[41m5\u001b[0m, \u001b[41m5\u001b[0m, \u001b[41m5\u001b[0m, \u001b[41m5\u001b[0m, \u001b[41m5\u001b[0m, \u001b[41m1\u001b[0m, \u001b[41m1\u001b[0m, := 64\n"
     ]
    },
    {
     "data": {
      "text/plain": [
       "(9, 64)"
      ]
     },
     "execution_count": 36,
     "metadata": {},
     "output_type": "execute_result"
    }
   ],
   "source": [
    "match_strategies(randomly, full_defect)"
   ]
  },
  {
   "cell_type": "code",
   "execution_count": 37,
   "metadata": {},
   "outputs": [
    {
     "name": "stdout",
     "output_type": "stream",
     "text": [
      "randomly vs full_coorporate\n",
      "\u001b[41m5\u001b[0m, \u001b[41m5\u001b[0m, \u001b[41m5\u001b[0m, \u001b[41m5\u001b[0m, \u001b[41m5\u001b[0m, \u001b[42m3\u001b[0m, \u001b[41m5\u001b[0m, \u001b[41m5\u001b[0m, \u001b[42m3\u001b[0m, \u001b[41m5\u001b[0m, \u001b[42m3\u001b[0m, \u001b[41m5\u001b[0m, \u001b[42m3\u001b[0m, \u001b[41m5\u001b[0m, \u001b[42m3\u001b[0m, \u001b[42m3\u001b[0m, \u001b[41m5\u001b[0m, \u001b[42m3\u001b[0m, \u001b[42m3\u001b[0m, \u001b[42m3\u001b[0m, := 82\n",
      "\u001b[42m0\u001b[0m, \u001b[42m0\u001b[0m, \u001b[42m0\u001b[0m, \u001b[42m0\u001b[0m, \u001b[42m0\u001b[0m, \u001b[42m3\u001b[0m, \u001b[42m0\u001b[0m, \u001b[42m0\u001b[0m, \u001b[42m3\u001b[0m, \u001b[42m0\u001b[0m, \u001b[42m3\u001b[0m, \u001b[42m0\u001b[0m, \u001b[42m3\u001b[0m, \u001b[42m0\u001b[0m, \u001b[42m3\u001b[0m, \u001b[42m3\u001b[0m, \u001b[42m0\u001b[0m, \u001b[42m3\u001b[0m, \u001b[42m3\u001b[0m, \u001b[42m3\u001b[0m, := 27\n"
     ]
    },
    {
     "data": {
      "text/plain": [
       "(82, 27)"
      ]
     },
     "execution_count": 37,
     "metadata": {},
     "output_type": "execute_result"
    }
   ],
   "source": [
    "match_strategies(randomly, full_coorporate)"
   ]
  },
  {
   "cell_type": "code",
   "execution_count": 38,
   "metadata": {},
   "outputs": [],
   "source": [
    "def tit_for_tat(my_moves, opp_moves, move_num, total_moves):\n",
    "    return True if move_num == 0 else opp_moves[move_num-1]"
   ]
  },
  {
   "cell_type": "code",
   "execution_count": 39,
   "metadata": {},
   "outputs": [
    {
     "name": "stdout",
     "output_type": "stream",
     "text": [
      "tit_for_tat vs full_coorporate\n",
      "\u001b[42m3\u001b[0m, \u001b[42m3\u001b[0m, \u001b[42m3\u001b[0m, \u001b[42m3\u001b[0m, \u001b[42m3\u001b[0m, \u001b[42m3\u001b[0m, \u001b[42m3\u001b[0m, \u001b[42m3\u001b[0m, \u001b[42m3\u001b[0m, \u001b[42m3\u001b[0m, \u001b[42m3\u001b[0m, \u001b[42m3\u001b[0m, \u001b[42m3\u001b[0m, \u001b[42m3\u001b[0m, \u001b[42m3\u001b[0m, \u001b[42m3\u001b[0m, \u001b[42m3\u001b[0m, \u001b[42m3\u001b[0m, \u001b[42m3\u001b[0m, \u001b[42m3\u001b[0m, := 60\n",
      "\u001b[42m3\u001b[0m, \u001b[42m3\u001b[0m, \u001b[42m3\u001b[0m, \u001b[42m3\u001b[0m, \u001b[42m3\u001b[0m, \u001b[42m3\u001b[0m, \u001b[42m3\u001b[0m, \u001b[42m3\u001b[0m, \u001b[42m3\u001b[0m, \u001b[42m3\u001b[0m, \u001b[42m3\u001b[0m, \u001b[42m3\u001b[0m, \u001b[42m3\u001b[0m, \u001b[42m3\u001b[0m, \u001b[42m3\u001b[0m, \u001b[42m3\u001b[0m, \u001b[42m3\u001b[0m, \u001b[42m3\u001b[0m, \u001b[42m3\u001b[0m, \u001b[42m3\u001b[0m, := 60\n"
     ]
    },
    {
     "data": {
      "text/plain": [
       "(60, 60)"
      ]
     },
     "execution_count": 39,
     "metadata": {},
     "output_type": "execute_result"
    }
   ],
   "source": [
    "match_strategies(tit_for_tat, full_coorporate)"
   ]
  },
  {
   "cell_type": "code",
   "execution_count": 40,
   "metadata": {},
   "outputs": [
    {
     "name": "stdout",
     "output_type": "stream",
     "text": [
      "tit_for_tat vs full_defect\n",
      "\u001b[42m0\u001b[0m, \u001b[41m1\u001b[0m, \u001b[41m1\u001b[0m, \u001b[41m1\u001b[0m, \u001b[41m1\u001b[0m, \u001b[41m1\u001b[0m, \u001b[41m1\u001b[0m, \u001b[41m1\u001b[0m, \u001b[41m1\u001b[0m, \u001b[41m1\u001b[0m, \u001b[41m1\u001b[0m, \u001b[41m1\u001b[0m, \u001b[41m1\u001b[0m, \u001b[41m1\u001b[0m, \u001b[41m1\u001b[0m, \u001b[41m1\u001b[0m, \u001b[41m1\u001b[0m, \u001b[41m1\u001b[0m, \u001b[41m1\u001b[0m, \u001b[41m1\u001b[0m, := 19\n",
      "\u001b[41m5\u001b[0m, \u001b[41m1\u001b[0m, \u001b[41m1\u001b[0m, \u001b[41m1\u001b[0m, \u001b[41m1\u001b[0m, \u001b[41m1\u001b[0m, \u001b[41m1\u001b[0m, \u001b[41m1\u001b[0m, \u001b[41m1\u001b[0m, \u001b[41m1\u001b[0m, \u001b[41m1\u001b[0m, \u001b[41m1\u001b[0m, \u001b[41m1\u001b[0m, \u001b[41m1\u001b[0m, \u001b[41m1\u001b[0m, \u001b[41m1\u001b[0m, \u001b[41m1\u001b[0m, \u001b[41m1\u001b[0m, \u001b[41m1\u001b[0m, \u001b[41m1\u001b[0m, := 24\n"
     ]
    },
    {
     "data": {
      "text/plain": [
       "(19, 24)"
      ]
     },
     "execution_count": 40,
     "metadata": {},
     "output_type": "execute_result"
    }
   ],
   "source": [
    "match_strategies(tit_for_tat, full_defect)"
   ]
  },
  {
   "cell_type": "code",
   "execution_count": 41,
   "metadata": {},
   "outputs": [
    {
     "name": "stdout",
     "output_type": "stream",
     "text": [
      "tit_for_tat vs randomly\n",
      "\u001b[42m0\u001b[0m, \u001b[41m1\u001b[0m, \u001b[41m1\u001b[0m, \u001b[41m1\u001b[0m, \u001b[41m5\u001b[0m, \u001b[42m3\u001b[0m, \u001b[42m0\u001b[0m, \u001b[41m5\u001b[0m, \u001b[42m3\u001b[0m, \u001b[42m3\u001b[0m, \u001b[42m0\u001b[0m, \u001b[41m5\u001b[0m, \u001b[42m0\u001b[0m, \u001b[41m1\u001b[0m, \u001b[41m5\u001b[0m, \u001b[42m0\u001b[0m, \u001b[41m5\u001b[0m, \u001b[42m3\u001b[0m, \u001b[42m3\u001b[0m, \u001b[42m0\u001b[0m, := 44\n",
      "\u001b[41m5\u001b[0m, \u001b[41m1\u001b[0m, \u001b[41m1\u001b[0m, \u001b[41m1\u001b[0m, \u001b[42m0\u001b[0m, \u001b[42m3\u001b[0m, \u001b[41m5\u001b[0m, \u001b[42m0\u001b[0m, \u001b[42m3\u001b[0m, \u001b[42m3\u001b[0m, \u001b[41m5\u001b[0m, \u001b[42m0\u001b[0m, \u001b[41m5\u001b[0m, \u001b[41m1\u001b[0m, \u001b[42m0\u001b[0m, \u001b[41m5\u001b[0m, \u001b[42m0\u001b[0m, \u001b[42m3\u001b[0m, \u001b[42m3\u001b[0m, \u001b[41m5\u001b[0m, := 49\n"
     ]
    },
    {
     "data": {
      "text/plain": [
       "(44, 49)"
      ]
     },
     "execution_count": 41,
     "metadata": {},
     "output_type": "execute_result"
    }
   ],
   "source": [
    "match_strategies(tit_for_tat, randomly)"
   ]
  },
  {
   "cell_type": "markdown",
   "metadata": {},
   "source": [
    "### All play all"
   ]
  },
  {
   "cell_type": "code",
   "execution_count": 86,
   "metadata": {},
   "outputs": [],
   "source": [
    "import pandas as pd\n",
    "\n",
    "def prepare_scores_df(scores):\n",
    "\n",
    "    score_df = pd.DataFrame([])\n",
    "    score_df.index = [s.__name__ for s in strategies]\n",
    "    score_df[[s.__name__ for s in strategies]] = None\n",
    "\n",
    "    for s, v in scores.items():\n",
    "        score_df.loc[s[0], s[1]] = v\n",
    "\n",
    "    score_df['Total'] = score_df.sum(axis=1).astype(int)\n",
    "    score_df['Ranks'] = score_df['Total'].rank(ascending=False)\n",
    "\n",
    "    return score_df\n",
    "\n",
    "\n",
    "def all_play_all(strategies, num_games=NUM_GAMES, print_match=True):\n",
    "    num = len(strategies)\n",
    "    scores = {}\n",
    "    for i in range(num):\n",
    "        for j in range(i+1):\n",
    "            s1 = strategies[i]\n",
    "            s2 = strategies[j]\n",
    "\n",
    "            s1_score, s2_score = match_strategies(s1, s2, num_games, print_match)\n",
    "            scores[(s1.__name__, s2.__name__)] = s1_score\n",
    "            scores[(s2.__name__, s1.__name__)] = s2_score\n",
    "            \n",
    "    return scores\n"
   ]
  },
  {
   "cell_type": "markdown",
   "metadata": {},
   "source": [
    "## And the Battle begins!"
   ]
  },
  {
   "cell_type": "markdown",
   "metadata": {},
   "source": [
    "### Adding some new players"
   ]
  },
  {
   "cell_type": "code",
   "execution_count": 98,
   "metadata": {},
   "outputs": [],
   "source": [
    "def defect_in_last_quarter(my_moves, opp_moves, mov_num, total_moves):\n",
    "    if mov_num < total_moves * (3/4):\n",
    "        return True\n",
    "    return False\n",
    "\n",
    "# ToDo add more ....!\n",
    "\n",
    "\n"
   ]
  },
  {
   "cell_type": "markdown",
   "metadata": {},
   "source": [
    "### RUN"
   ]
  },
  {
   "cell_type": "code",
   "execution_count": 99,
   "metadata": {},
   "outputs": [
    {
     "name": "stdout",
     "output_type": "stream",
     "text": [
      "full_coorporate vs full_coorporate\n",
      "\u001b[42m3\u001b[0m, \u001b[42m3\u001b[0m, \u001b[42m3\u001b[0m, \u001b[42m3\u001b[0m, \u001b[42m3\u001b[0m, \u001b[42m3\u001b[0m, \u001b[42m3\u001b[0m, \u001b[42m3\u001b[0m, \u001b[42m3\u001b[0m, \u001b[42m3\u001b[0m, \u001b[42m3\u001b[0m, \u001b[42m3\u001b[0m, \u001b[42m3\u001b[0m, \u001b[42m3\u001b[0m, \u001b[42m3\u001b[0m, \u001b[42m3\u001b[0m, \u001b[42m3\u001b[0m, \u001b[42m3\u001b[0m, \u001b[42m3\u001b[0m, \u001b[42m3\u001b[0m, := 60\n",
      "\u001b[42m3\u001b[0m, \u001b[42m3\u001b[0m, \u001b[42m3\u001b[0m, \u001b[42m3\u001b[0m, \u001b[42m3\u001b[0m, \u001b[42m3\u001b[0m, \u001b[42m3\u001b[0m, \u001b[42m3\u001b[0m, \u001b[42m3\u001b[0m, \u001b[42m3\u001b[0m, \u001b[42m3\u001b[0m, \u001b[42m3\u001b[0m, \u001b[42m3\u001b[0m, \u001b[42m3\u001b[0m, \u001b[42m3\u001b[0m, \u001b[42m3\u001b[0m, \u001b[42m3\u001b[0m, \u001b[42m3\u001b[0m, \u001b[42m3\u001b[0m, \u001b[42m3\u001b[0m, := 60\n",
      "full_defect vs full_coorporate\n",
      "\u001b[41m5\u001b[0m, \u001b[41m5\u001b[0m, \u001b[41m5\u001b[0m, \u001b[41m5\u001b[0m, \u001b[41m5\u001b[0m, \u001b[41m5\u001b[0m, \u001b[41m5\u001b[0m, \u001b[41m5\u001b[0m, \u001b[41m5\u001b[0m, \u001b[41m5\u001b[0m, \u001b[41m5\u001b[0m, \u001b[41m5\u001b[0m, \u001b[41m5\u001b[0m, \u001b[41m5\u001b[0m, \u001b[41m5\u001b[0m, \u001b[41m5\u001b[0m, \u001b[41m5\u001b[0m, \u001b[41m5\u001b[0m, \u001b[41m5\u001b[0m, \u001b[41m5\u001b[0m, := 100\n",
      "\u001b[42m0\u001b[0m, \u001b[42m0\u001b[0m, \u001b[42m0\u001b[0m, \u001b[42m0\u001b[0m, \u001b[42m0\u001b[0m, \u001b[42m0\u001b[0m, \u001b[42m0\u001b[0m, \u001b[42m0\u001b[0m, \u001b[42m0\u001b[0m, \u001b[42m0\u001b[0m, \u001b[42m0\u001b[0m, \u001b[42m0\u001b[0m, \u001b[42m0\u001b[0m, \u001b[42m0\u001b[0m, \u001b[42m0\u001b[0m, \u001b[42m0\u001b[0m, \u001b[42m0\u001b[0m, \u001b[42m0\u001b[0m, \u001b[42m0\u001b[0m, \u001b[42m0\u001b[0m, := 0\n",
      "full_defect vs full_defect\n",
      "\u001b[41m1\u001b[0m, \u001b[41m1\u001b[0m, \u001b[41m1\u001b[0m, \u001b[41m1\u001b[0m, \u001b[41m1\u001b[0m, \u001b[41m1\u001b[0m, \u001b[41m1\u001b[0m, \u001b[41m1\u001b[0m, \u001b[41m1\u001b[0m, \u001b[41m1\u001b[0m, \u001b[41m1\u001b[0m, \u001b[41m1\u001b[0m, \u001b[41m1\u001b[0m, \u001b[41m1\u001b[0m, \u001b[41m1\u001b[0m, \u001b[41m1\u001b[0m, \u001b[41m1\u001b[0m, \u001b[41m1\u001b[0m, \u001b[41m1\u001b[0m, \u001b[41m1\u001b[0m, := 20\n",
      "\u001b[41m1\u001b[0m, \u001b[41m1\u001b[0m, \u001b[41m1\u001b[0m, \u001b[41m1\u001b[0m, \u001b[41m1\u001b[0m, \u001b[41m1\u001b[0m, \u001b[41m1\u001b[0m, \u001b[41m1\u001b[0m, \u001b[41m1\u001b[0m, \u001b[41m1\u001b[0m, \u001b[41m1\u001b[0m, \u001b[41m1\u001b[0m, \u001b[41m1\u001b[0m, \u001b[41m1\u001b[0m, \u001b[41m1\u001b[0m, \u001b[41m1\u001b[0m, \u001b[41m1\u001b[0m, \u001b[41m1\u001b[0m, \u001b[41m1\u001b[0m, \u001b[41m1\u001b[0m, := 20\n",
      "randomly vs full_coorporate\n",
      "\u001b[42m3\u001b[0m, \u001b[41m5\u001b[0m, \u001b[41m5\u001b[0m, \u001b[42m3\u001b[0m, \u001b[41m5\u001b[0m, \u001b[42m3\u001b[0m, \u001b[41m5\u001b[0m, \u001b[42m3\u001b[0m, \u001b[41m5\u001b[0m, \u001b[41m5\u001b[0m, \u001b[42m3\u001b[0m, \u001b[42m3\u001b[0m, \u001b[41m5\u001b[0m, \u001b[42m3\u001b[0m, \u001b[42m3\u001b[0m, \u001b[42m3\u001b[0m, \u001b[41m5\u001b[0m, \u001b[42m3\u001b[0m, \u001b[42m3\u001b[0m, \u001b[41m5\u001b[0m, := 78\n",
      "\u001b[42m3\u001b[0m, \u001b[42m0\u001b[0m, \u001b[42m0\u001b[0m, \u001b[42m3\u001b[0m, \u001b[42m0\u001b[0m, \u001b[42m3\u001b[0m, \u001b[42m0\u001b[0m, \u001b[42m3\u001b[0m, \u001b[42m0\u001b[0m, \u001b[42m0\u001b[0m, \u001b[42m3\u001b[0m, \u001b[42m3\u001b[0m, \u001b[42m0\u001b[0m, \u001b[42m3\u001b[0m, \u001b[42m3\u001b[0m, \u001b[42m3\u001b[0m, \u001b[42m0\u001b[0m, \u001b[42m3\u001b[0m, \u001b[42m3\u001b[0m, \u001b[42m0\u001b[0m, := 33\n",
      "randomly vs full_defect\n",
      "\u001b[41m1\u001b[0m, \u001b[42m0\u001b[0m, \u001b[41m1\u001b[0m, \u001b[42m0\u001b[0m, \u001b[41m1\u001b[0m, \u001b[42m0\u001b[0m, \u001b[42m0\u001b[0m, \u001b[41m1\u001b[0m, \u001b[41m1\u001b[0m, \u001b[41m1\u001b[0m, \u001b[42m0\u001b[0m, \u001b[42m0\u001b[0m, \u001b[42m0\u001b[0m, \u001b[42m0\u001b[0m, \u001b[42m0\u001b[0m, \u001b[42m0\u001b[0m, \u001b[42m0\u001b[0m, \u001b[42m0\u001b[0m, \u001b[41m1\u001b[0m, \u001b[42m0\u001b[0m, := 7\n",
      "\u001b[41m1\u001b[0m, \u001b[41m5\u001b[0m, \u001b[41m1\u001b[0m, \u001b[41m5\u001b[0m, \u001b[41m1\u001b[0m, \u001b[41m5\u001b[0m, \u001b[41m5\u001b[0m, \u001b[41m1\u001b[0m, \u001b[41m1\u001b[0m, \u001b[41m1\u001b[0m, \u001b[41m5\u001b[0m, \u001b[41m5\u001b[0m, \u001b[41m5\u001b[0m, \u001b[41m5\u001b[0m, \u001b[41m5\u001b[0m, \u001b[41m5\u001b[0m, \u001b[41m5\u001b[0m, \u001b[41m5\u001b[0m, \u001b[41m1\u001b[0m, \u001b[41m5\u001b[0m, := 72\n",
      "randomly vs randomly\n",
      "\u001b[42m3\u001b[0m, \u001b[41m5\u001b[0m, \u001b[41m1\u001b[0m, \u001b[41m1\u001b[0m, \u001b[42m0\u001b[0m, \u001b[41m1\u001b[0m, \u001b[42m0\u001b[0m, \u001b[42m0\u001b[0m, \u001b[42m0\u001b[0m, \u001b[42m3\u001b[0m, \u001b[42m0\u001b[0m, \u001b[41m5\u001b[0m, \u001b[42m0\u001b[0m, \u001b[42m0\u001b[0m, \u001b[41m5\u001b[0m, \u001b[41m5\u001b[0m, \u001b[42m0\u001b[0m, \u001b[42m0\u001b[0m, \u001b[42m0\u001b[0m, \u001b[42m3\u001b[0m, := 32\n",
      "\u001b[42m3\u001b[0m, \u001b[42m0\u001b[0m, \u001b[41m1\u001b[0m, \u001b[41m1\u001b[0m, \u001b[41m5\u001b[0m, \u001b[41m1\u001b[0m, \u001b[41m5\u001b[0m, \u001b[41m5\u001b[0m, \u001b[41m5\u001b[0m, \u001b[42m3\u001b[0m, \u001b[41m5\u001b[0m, \u001b[42m0\u001b[0m, \u001b[41m5\u001b[0m, \u001b[41m5\u001b[0m, \u001b[42m0\u001b[0m, \u001b[42m0\u001b[0m, \u001b[41m5\u001b[0m, \u001b[41m5\u001b[0m, \u001b[41m5\u001b[0m, \u001b[42m3\u001b[0m, := 62\n",
      "tit_for_tat vs full_coorporate\n",
      "\u001b[42m3\u001b[0m, \u001b[42m3\u001b[0m, \u001b[42m3\u001b[0m, \u001b[42m3\u001b[0m, \u001b[42m3\u001b[0m, \u001b[42m3\u001b[0m, \u001b[42m3\u001b[0m, \u001b[42m3\u001b[0m, \u001b[42m3\u001b[0m, \u001b[42m3\u001b[0m, \u001b[42m3\u001b[0m, \u001b[42m3\u001b[0m, \u001b[42m3\u001b[0m, \u001b[42m3\u001b[0m, \u001b[42m3\u001b[0m, \u001b[42m3\u001b[0m, \u001b[42m3\u001b[0m, \u001b[42m3\u001b[0m, \u001b[42m3\u001b[0m, \u001b[42m3\u001b[0m, := 60\n",
      "\u001b[42m3\u001b[0m, \u001b[42m3\u001b[0m, \u001b[42m3\u001b[0m, \u001b[42m3\u001b[0m, \u001b[42m3\u001b[0m, \u001b[42m3\u001b[0m, \u001b[42m3\u001b[0m, \u001b[42m3\u001b[0m, \u001b[42m3\u001b[0m, \u001b[42m3\u001b[0m, \u001b[42m3\u001b[0m, \u001b[42m3\u001b[0m, \u001b[42m3\u001b[0m, \u001b[42m3\u001b[0m, \u001b[42m3\u001b[0m, \u001b[42m3\u001b[0m, \u001b[42m3\u001b[0m, \u001b[42m3\u001b[0m, \u001b[42m3\u001b[0m, \u001b[42m3\u001b[0m, := 60\n",
      "tit_for_tat vs full_defect\n",
      "\u001b[42m0\u001b[0m, \u001b[41m1\u001b[0m, \u001b[41m1\u001b[0m, \u001b[41m1\u001b[0m, \u001b[41m1\u001b[0m, \u001b[41m1\u001b[0m, \u001b[41m1\u001b[0m, \u001b[41m1\u001b[0m, \u001b[41m1\u001b[0m, \u001b[41m1\u001b[0m, \u001b[41m1\u001b[0m, \u001b[41m1\u001b[0m, \u001b[41m1\u001b[0m, \u001b[41m1\u001b[0m, \u001b[41m1\u001b[0m, \u001b[41m1\u001b[0m, \u001b[41m1\u001b[0m, \u001b[41m1\u001b[0m, \u001b[41m1\u001b[0m, \u001b[41m1\u001b[0m, := 19\n",
      "\u001b[41m5\u001b[0m, \u001b[41m1\u001b[0m, \u001b[41m1\u001b[0m, \u001b[41m1\u001b[0m, \u001b[41m1\u001b[0m, \u001b[41m1\u001b[0m, \u001b[41m1\u001b[0m, \u001b[41m1\u001b[0m, \u001b[41m1\u001b[0m, \u001b[41m1\u001b[0m, \u001b[41m1\u001b[0m, \u001b[41m1\u001b[0m, \u001b[41m1\u001b[0m, \u001b[41m1\u001b[0m, \u001b[41m1\u001b[0m, \u001b[41m1\u001b[0m, \u001b[41m1\u001b[0m, \u001b[41m1\u001b[0m, \u001b[41m1\u001b[0m, \u001b[41m1\u001b[0m, := 24\n",
      "tit_for_tat vs randomly\n",
      "\u001b[42m0\u001b[0m, \u001b[41m5\u001b[0m, \u001b[42m3\u001b[0m, \u001b[42m0\u001b[0m, \u001b[41m1\u001b[0m, \u001b[41m1\u001b[0m, \u001b[41m1\u001b[0m, \u001b[41m1\u001b[0m, \u001b[41m5\u001b[0m, \u001b[42m3\u001b[0m, \u001b[42m0\u001b[0m, \u001b[41m1\u001b[0m, \u001b[41m1\u001b[0m, \u001b[41m1\u001b[0m, \u001b[41m1\u001b[0m, \u001b[41m1\u001b[0m, \u001b[41m1\u001b[0m, \u001b[41m1\u001b[0m, \u001b[41m1\u001b[0m, \u001b[41m1\u001b[0m, := 29\n",
      "\u001b[41m5\u001b[0m, \u001b[42m0\u001b[0m, \u001b[42m3\u001b[0m, \u001b[41m5\u001b[0m, \u001b[41m1\u001b[0m, \u001b[41m1\u001b[0m, \u001b[41m1\u001b[0m, \u001b[41m1\u001b[0m, \u001b[42m0\u001b[0m, \u001b[42m3\u001b[0m, \u001b[41m5\u001b[0m, \u001b[41m1\u001b[0m, \u001b[41m1\u001b[0m, \u001b[41m1\u001b[0m, \u001b[41m1\u001b[0m, \u001b[41m1\u001b[0m, \u001b[41m1\u001b[0m, \u001b[41m1\u001b[0m, \u001b[41m1\u001b[0m, \u001b[41m1\u001b[0m, := 34\n",
      "tit_for_tat vs tit_for_tat\n",
      "\u001b[42m3\u001b[0m, \u001b[42m3\u001b[0m, \u001b[42m3\u001b[0m, \u001b[42m3\u001b[0m, \u001b[42m3\u001b[0m, \u001b[42m3\u001b[0m, \u001b[42m3\u001b[0m, \u001b[42m3\u001b[0m, \u001b[42m3\u001b[0m, \u001b[42m3\u001b[0m, \u001b[42m3\u001b[0m, \u001b[42m3\u001b[0m, \u001b[42m3\u001b[0m, \u001b[42m3\u001b[0m, \u001b[42m3\u001b[0m, \u001b[42m3\u001b[0m, \u001b[42m3\u001b[0m, \u001b[42m3\u001b[0m, \u001b[42m3\u001b[0m, \u001b[42m3\u001b[0m, := 60\n",
      "\u001b[42m3\u001b[0m, \u001b[42m3\u001b[0m, \u001b[42m3\u001b[0m, \u001b[42m3\u001b[0m, \u001b[42m3\u001b[0m, \u001b[42m3\u001b[0m, \u001b[42m3\u001b[0m, \u001b[42m3\u001b[0m, \u001b[42m3\u001b[0m, \u001b[42m3\u001b[0m, \u001b[42m3\u001b[0m, \u001b[42m3\u001b[0m, \u001b[42m3\u001b[0m, \u001b[42m3\u001b[0m, \u001b[42m3\u001b[0m, \u001b[42m3\u001b[0m, \u001b[42m3\u001b[0m, \u001b[42m3\u001b[0m, \u001b[42m3\u001b[0m, \u001b[42m3\u001b[0m, := 60\n",
      "defect_in_last_quarter vs full_coorporate\n",
      "\u001b[42m3\u001b[0m, \u001b[42m3\u001b[0m, \u001b[42m3\u001b[0m, \u001b[42m3\u001b[0m, \u001b[42m3\u001b[0m, \u001b[42m3\u001b[0m, \u001b[42m3\u001b[0m, \u001b[42m3\u001b[0m, \u001b[42m3\u001b[0m, \u001b[42m3\u001b[0m, \u001b[42m3\u001b[0m, \u001b[42m3\u001b[0m, \u001b[42m3\u001b[0m, \u001b[42m3\u001b[0m, \u001b[42m3\u001b[0m, \u001b[41m5\u001b[0m, \u001b[41m5\u001b[0m, \u001b[41m5\u001b[0m, \u001b[41m5\u001b[0m, \u001b[41m5\u001b[0m, := 70\n",
      "\u001b[42m3\u001b[0m, \u001b[42m3\u001b[0m, \u001b[42m3\u001b[0m, \u001b[42m3\u001b[0m, \u001b[42m3\u001b[0m, \u001b[42m3\u001b[0m, \u001b[42m3\u001b[0m, \u001b[42m3\u001b[0m, \u001b[42m3\u001b[0m, \u001b[42m3\u001b[0m, \u001b[42m3\u001b[0m, \u001b[42m3\u001b[0m, \u001b[42m3\u001b[0m, \u001b[42m3\u001b[0m, \u001b[42m3\u001b[0m, \u001b[42m0\u001b[0m, \u001b[42m0\u001b[0m, \u001b[42m0\u001b[0m, \u001b[42m0\u001b[0m, \u001b[42m0\u001b[0m, := 45\n",
      "defect_in_last_quarter vs full_defect\n",
      "\u001b[42m0\u001b[0m, \u001b[42m0\u001b[0m, \u001b[42m0\u001b[0m, \u001b[42m0\u001b[0m, \u001b[42m0\u001b[0m, \u001b[42m0\u001b[0m, \u001b[42m0\u001b[0m, \u001b[42m0\u001b[0m, \u001b[42m0\u001b[0m, \u001b[42m0\u001b[0m, \u001b[42m0\u001b[0m, \u001b[42m0\u001b[0m, \u001b[42m0\u001b[0m, \u001b[42m0\u001b[0m, \u001b[42m0\u001b[0m, \u001b[41m1\u001b[0m, \u001b[41m1\u001b[0m, \u001b[41m1\u001b[0m, \u001b[41m1\u001b[0m, \u001b[41m1\u001b[0m, := 5\n",
      "\u001b[41m5\u001b[0m, \u001b[41m5\u001b[0m, \u001b[41m5\u001b[0m, \u001b[41m5\u001b[0m, \u001b[41m5\u001b[0m, \u001b[41m5\u001b[0m, \u001b[41m5\u001b[0m, \u001b[41m5\u001b[0m, \u001b[41m5\u001b[0m, \u001b[41m5\u001b[0m, \u001b[41m5\u001b[0m, \u001b[41m5\u001b[0m, \u001b[41m5\u001b[0m, \u001b[41m5\u001b[0m, \u001b[41m5\u001b[0m, \u001b[41m1\u001b[0m, \u001b[41m1\u001b[0m, \u001b[41m1\u001b[0m, \u001b[41m1\u001b[0m, \u001b[41m1\u001b[0m, := 80\n",
      "defect_in_last_quarter vs randomly\n",
      "\u001b[42m0\u001b[0m, \u001b[42m0\u001b[0m, \u001b[42m0\u001b[0m, \u001b[42m0\u001b[0m, \u001b[42m3\u001b[0m, \u001b[42m0\u001b[0m, \u001b[42m0\u001b[0m, \u001b[42m3\u001b[0m, \u001b[42m0\u001b[0m, \u001b[42m0\u001b[0m, \u001b[42m0\u001b[0m, \u001b[42m0\u001b[0m, \u001b[42m3\u001b[0m, \u001b[42m0\u001b[0m, \u001b[42m3\u001b[0m, \u001b[41m5\u001b[0m, \u001b[41m1\u001b[0m, \u001b[41m5\u001b[0m, \u001b[41m1\u001b[0m, \u001b[41m5\u001b[0m, := 29\n",
      "\u001b[41m5\u001b[0m, \u001b[41m5\u001b[0m, \u001b[41m5\u001b[0m, \u001b[41m5\u001b[0m, \u001b[42m3\u001b[0m, \u001b[41m5\u001b[0m, \u001b[41m5\u001b[0m, \u001b[42m3\u001b[0m, \u001b[41m5\u001b[0m, \u001b[41m5\u001b[0m, \u001b[41m5\u001b[0m, \u001b[41m5\u001b[0m, \u001b[42m3\u001b[0m, \u001b[41m5\u001b[0m, \u001b[42m3\u001b[0m, \u001b[42m0\u001b[0m, \u001b[41m1\u001b[0m, \u001b[42m0\u001b[0m, \u001b[41m1\u001b[0m, \u001b[42m0\u001b[0m, := 69\n",
      "defect_in_last_quarter vs tit_for_tat\n",
      "\u001b[42m3\u001b[0m, \u001b[42m3\u001b[0m, \u001b[42m3\u001b[0m, \u001b[42m3\u001b[0m, \u001b[42m3\u001b[0m, \u001b[42m3\u001b[0m, \u001b[42m3\u001b[0m, \u001b[42m3\u001b[0m, \u001b[42m3\u001b[0m, \u001b[42m3\u001b[0m, \u001b[42m3\u001b[0m, \u001b[42m3\u001b[0m, \u001b[42m3\u001b[0m, \u001b[42m3\u001b[0m, \u001b[42m3\u001b[0m, \u001b[41m5\u001b[0m, \u001b[41m1\u001b[0m, \u001b[41m1\u001b[0m, \u001b[41m1\u001b[0m, \u001b[41m1\u001b[0m, := 54\n",
      "\u001b[42m3\u001b[0m, \u001b[42m3\u001b[0m, \u001b[42m3\u001b[0m, \u001b[42m3\u001b[0m, \u001b[42m3\u001b[0m, \u001b[42m3\u001b[0m, \u001b[42m3\u001b[0m, \u001b[42m3\u001b[0m, \u001b[42m3\u001b[0m, \u001b[42m3\u001b[0m, \u001b[42m3\u001b[0m, \u001b[42m3\u001b[0m, \u001b[42m3\u001b[0m, \u001b[42m3\u001b[0m, \u001b[42m3\u001b[0m, \u001b[42m0\u001b[0m, \u001b[41m1\u001b[0m, \u001b[41m1\u001b[0m, \u001b[41m1\u001b[0m, \u001b[41m1\u001b[0m, := 49\n",
      "defect_in_last_quarter vs defect_in_last_quarter\n",
      "\u001b[42m3\u001b[0m, \u001b[42m3\u001b[0m, \u001b[42m3\u001b[0m, \u001b[42m3\u001b[0m, \u001b[42m3\u001b[0m, \u001b[42m3\u001b[0m, \u001b[42m3\u001b[0m, \u001b[42m3\u001b[0m, \u001b[42m3\u001b[0m, \u001b[42m3\u001b[0m, \u001b[42m3\u001b[0m, \u001b[42m3\u001b[0m, \u001b[42m3\u001b[0m, \u001b[42m3\u001b[0m, \u001b[42m3\u001b[0m, \u001b[41m1\u001b[0m, \u001b[41m1\u001b[0m, \u001b[41m1\u001b[0m, \u001b[41m1\u001b[0m, \u001b[41m1\u001b[0m, := 50\n",
      "\u001b[42m3\u001b[0m, \u001b[42m3\u001b[0m, \u001b[42m3\u001b[0m, \u001b[42m3\u001b[0m, \u001b[42m3\u001b[0m, \u001b[42m3\u001b[0m, \u001b[42m3\u001b[0m, \u001b[42m3\u001b[0m, \u001b[42m3\u001b[0m, \u001b[42m3\u001b[0m, \u001b[42m3\u001b[0m, \u001b[42m3\u001b[0m, \u001b[42m3\u001b[0m, \u001b[42m3\u001b[0m, \u001b[42m3\u001b[0m, \u001b[41m1\u001b[0m, \u001b[41m1\u001b[0m, \u001b[41m1\u001b[0m, \u001b[41m1\u001b[0m, \u001b[41m1\u001b[0m, := 50\n"
     ]
    }
   ],
   "source": [
    "strategies = [\n",
    "    full_coorporate, \n",
    "    full_defect, \n",
    "    randomly, \n",
    "    tit_for_tat,\n",
    "    defect_in_last_quarter,\n",
    "]\n",
    "\n",
    "scores = all_play_all(strategies, num_games=20)\n",
    "\n",
    "scores_df = prepare_scores_df(scores)"
   ]
  },
  {
   "cell_type": "code",
   "execution_count": 100,
   "metadata": {},
   "outputs": [
    {
     "data": {
      "text/html": [
       "<div>\n",
       "<style scoped>\n",
       "    .dataframe tbody tr th:only-of-type {\n",
       "        vertical-align: middle;\n",
       "    }\n",
       "\n",
       "    .dataframe tbody tr th {\n",
       "        vertical-align: top;\n",
       "    }\n",
       "\n",
       "    .dataframe thead th {\n",
       "        text-align: right;\n",
       "    }\n",
       "</style>\n",
       "<table border=\"1\" class=\"dataframe\">\n",
       "  <thead>\n",
       "    <tr style=\"text-align: right;\">\n",
       "      <th></th>\n",
       "      <th>full_coorporate</th>\n",
       "      <th>full_defect</th>\n",
       "      <th>randomly</th>\n",
       "      <th>tit_for_tat</th>\n",
       "      <th>defect_in_last_quarter</th>\n",
       "      <th>Total</th>\n",
       "      <th>Ranks</th>\n",
       "    </tr>\n",
       "  </thead>\n",
       "  <tbody>\n",
       "    <tr>\n",
       "      <th>full_coorporate</th>\n",
       "      <td>60</td>\n",
       "      <td>0</td>\n",
       "      <td>33</td>\n",
       "      <td>60</td>\n",
       "      <td>45</td>\n",
       "      <td>198</td>\n",
       "      <td>5.0</td>\n",
       "    </tr>\n",
       "    <tr>\n",
       "      <th>full_defect</th>\n",
       "      <td>100</td>\n",
       "      <td>20</td>\n",
       "      <td>72</td>\n",
       "      <td>24</td>\n",
       "      <td>80</td>\n",
       "      <td>296</td>\n",
       "      <td>1.0</td>\n",
       "    </tr>\n",
       "    <tr>\n",
       "      <th>randomly</th>\n",
       "      <td>78</td>\n",
       "      <td>7</td>\n",
       "      <td>62</td>\n",
       "      <td>34</td>\n",
       "      <td>69</td>\n",
       "      <td>250</td>\n",
       "      <td>2.0</td>\n",
       "    </tr>\n",
       "    <tr>\n",
       "      <th>tit_for_tat</th>\n",
       "      <td>60</td>\n",
       "      <td>19</td>\n",
       "      <td>29</td>\n",
       "      <td>60</td>\n",
       "      <td>49</td>\n",
       "      <td>217</td>\n",
       "      <td>3.0</td>\n",
       "    </tr>\n",
       "    <tr>\n",
       "      <th>defect_in_last_quarter</th>\n",
       "      <td>70</td>\n",
       "      <td>5</td>\n",
       "      <td>29</td>\n",
       "      <td>54</td>\n",
       "      <td>50</td>\n",
       "      <td>208</td>\n",
       "      <td>4.0</td>\n",
       "    </tr>\n",
       "  </tbody>\n",
       "</table>\n",
       "</div>"
      ],
      "text/plain": [
       "                       full_coorporate full_defect randomly tit_for_tat  \\\n",
       "full_coorporate                     60           0       33          60   \n",
       "full_defect                        100          20       72          24   \n",
       "randomly                            78           7       62          34   \n",
       "tit_for_tat                         60          19       29          60   \n",
       "defect_in_last_quarter              70           5       29          54   \n",
       "\n",
       "                       defect_in_last_quarter  Total  Ranks  \n",
       "full_coorporate                            45    198    5.0  \n",
       "full_defect                                80    296    1.0  \n",
       "randomly                                   69    250    2.0  \n",
       "tit_for_tat                                49    217    3.0  \n",
       "defect_in_last_quarter                     50    208    4.0  "
      ]
     },
     "execution_count": 100,
     "metadata": {},
     "output_type": "execute_result"
    }
   ],
   "source": [
    "scores_df"
   ]
  },
  {
   "cell_type": "code",
   "execution_count": null,
   "metadata": {},
   "outputs": [],
   "source": []
  }
 ],
 "metadata": {
  "kernelspec": {
   "display_name": "Python 3",
   "language": "python",
   "name": "python3"
  },
  "language_info": {
   "codemirror_mode": {
    "name": "ipython",
    "version": 3
   },
   "file_extension": ".py",
   "mimetype": "text/x-python",
   "name": "python",
   "nbconvert_exporter": "python",
   "pygments_lexer": "ipython3",
   "version": "3.8.10"
  }
 },
 "nbformat": 4,
 "nbformat_minor": 2
}
