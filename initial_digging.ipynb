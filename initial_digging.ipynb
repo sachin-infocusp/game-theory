{
 "cells": [
  {
   "cell_type": "markdown",
   "metadata": {},
   "source": [
    "# Prisoner's dilemma"
   ]
  },
  {
   "cell_type": "markdown",
   "metadata": {},
   "source": [
    "### Game"
   ]
  },
  {
   "cell_type": "code",
   "execution_count": 13,
   "metadata": {},
   "outputs": [
    {
     "data": {
      "text/plain": [
       "((3, 3), (1, 1), (0, 5), (5, 0))"
      ]
     },
     "execution_count": 13,
     "metadata": {},
     "output_type": "execute_result"
    }
   ],
   "source": [
    "def game(\n",
    "    is_1_corporate: bool, \n",
    "    is_2_corporate: bool,\n",
    ") -> tuple:\n",
    "  \n",
    "  if is_1_corporate and is_2_corporate:\n",
    "    return 3,3\n",
    "  elif is_1_corporate and not is_2_corporate:\n",
    "    return 0,5\n",
    "  elif not is_1_corporate and is_2_corporate:\n",
    "    return 5,0\n",
    "  else:\n",
    "    return 1,1\n",
    "\n",
    "game(True, True), game(False, False), game(True, False), game(False, True)"
   ]
  },
  {
   "cell_type": "markdown",
   "metadata": {},
   "source": [
    "### Match"
   ]
  },
  {
   "cell_type": "code",
   "execution_count": 62,
   "metadata": {},
   "outputs": [
    {
     "name": "stdout",
     "output_type": "stream",
     "text": [
      "\u001b[41m5\u001b[0m, \u001b[41m1\u001b[0m, \u001b[42m3\u001b[0m, := 9\n",
      "\u001b[42m0\u001b[0m, \u001b[41m1\u001b[0m, \u001b[42m3\u001b[0m, := 4\n"
     ]
    }
   ],
   "source": [
    "from termcolor import colored\n",
    "\n",
    "def match(\n",
    "        num_games: int, \n",
    "        p1_moves:list, \n",
    "        p2_moves=list,\n",
    "        print_match=True,\n",
    "    )-> tuple:\n",
    "\n",
    "    assert num_games > 0\n",
    "    assert len(p1_moves) == num_games\n",
    "    assert len(p2_moves) == num_games\n",
    "\n",
    "    total_p1, total_p2 = 0, 0\n",
    "    p1_points, p2_points = [], []\n",
    "    for i in range(num_games):\n",
    "        p1, p2 = game(p1_moves[i], p2_moves[i])\n",
    "        p1_points.append(p1)\n",
    "        p2_points.append(p2)\n",
    "        total_p1 += p1\n",
    "        total_p2 += p2\n",
    "    \n",
    "    if print_match:\n",
    "        for i in range(num_games):\n",
    "            print(f\"{colored(p1_points[i], on_color=get_on_color(p1_moves[i]))}, \", end=\"\")\n",
    "        print(f':= {total_p1}')\n",
    "        for i in range(num_games):\n",
    "            print(f\"{colored(p2_points[i], on_color=get_on_color(p2_moves[i]))}, \", end=\"\")\n",
    "        print(f':= {total_p2}')\n",
    "    \n",
    "    return total_p1, total_p2\n",
    "\n",
    "def get_on_color(choice: bool):\n",
    "    return 'on_green' if choice else 'on_red'\n",
    "\n",
    "p1, p2 = match(3,\n",
    "      [False, False, True],\n",
    "      [True, False, True])"
   ]
  },
  {
   "cell_type": "markdown",
   "metadata": {},
   "source": [
    "### Strategy"
   ]
  },
  {
   "cell_type": "code",
   "execution_count": 65,
   "metadata": {},
   "outputs": [],
   "source": [
    "NUM_GAMES = 20\n",
    "\n",
    "def match_strategies(\n",
    "        s1, s2,\n",
    "        num_games = NUM_GAMES,\n",
    "        print_match=True,\n",
    "):\n",
    "    p1_moves, p2_moves = [], []\n",
    "\n",
    "    for move_num in range(num_games):\n",
    "        p1 = s1(p1_moves, p2_moves, move_num, num_games)\n",
    "        p2 = s2(p1_moves, p2_moves, move_num, num_games)\n",
    "\n",
    "        p1_moves.append(p1)\n",
    "        p2_moves.append(p2)\n",
    "    \n",
    "    p1_score, p2_score = match(num_games, p1_moves, p2_moves, print_match)\n",
    "\n",
    "    return p1_score - p2_score\n"
   ]
  },
  {
   "cell_type": "code",
   "execution_count": 66,
   "metadata": {},
   "outputs": [
    {
     "name": "stdout",
     "output_type": "stream",
     "text": [
      "\u001b[42m0\u001b[0m, \u001b[42m0\u001b[0m, \u001b[42m0\u001b[0m, \u001b[42m0\u001b[0m, \u001b[42m0\u001b[0m, \u001b[42m0\u001b[0m, \u001b[42m0\u001b[0m, \u001b[42m0\u001b[0m, \u001b[42m0\u001b[0m, \u001b[42m0\u001b[0m, \u001b[42m0\u001b[0m, \u001b[42m0\u001b[0m, \u001b[42m0\u001b[0m, \u001b[42m0\u001b[0m, \u001b[42m0\u001b[0m, \u001b[42m0\u001b[0m, \u001b[42m0\u001b[0m, \u001b[42m0\u001b[0m, \u001b[42m0\u001b[0m, \u001b[42m0\u001b[0m, := 0\n",
      "\u001b[41m5\u001b[0m, \u001b[41m5\u001b[0m, \u001b[41m5\u001b[0m, \u001b[41m5\u001b[0m, \u001b[41m5\u001b[0m, \u001b[41m5\u001b[0m, \u001b[41m5\u001b[0m, \u001b[41m5\u001b[0m, \u001b[41m5\u001b[0m, \u001b[41m5\u001b[0m, \u001b[41m5\u001b[0m, \u001b[41m5\u001b[0m, \u001b[41m5\u001b[0m, \u001b[41m5\u001b[0m, \u001b[41m5\u001b[0m, \u001b[41m5\u001b[0m, \u001b[41m5\u001b[0m, \u001b[41m5\u001b[0m, \u001b[41m5\u001b[0m, \u001b[41m5\u001b[0m, := 100\n"
     ]
    },
    {
     "data": {
      "text/plain": [
       "-100"
      ]
     },
     "execution_count": 66,
     "metadata": {},
     "output_type": "execute_result"
    }
   ],
   "source": [
    "def full_coorporate(p1_moves, p2_moves, move_num, total_moves):\n",
    "    return True\n",
    "\n",
    "def full_defect(p1_moves, p2_moves, move_num, total_moves):\n",
    "    return False\n",
    "\n",
    "\n",
    "match_strategies(full_coorporate, full_defect)"
   ]
  },
  {
   "cell_type": "code",
   "execution_count": 67,
   "metadata": {},
   "outputs": [
    {
     "name": "stdout",
     "output_type": "stream",
     "text": [
      "\u001b[42m3\u001b[0m, \u001b[42m3\u001b[0m, \u001b[42m3\u001b[0m, \u001b[42m3\u001b[0m, \u001b[42m3\u001b[0m, \u001b[42m3\u001b[0m, \u001b[42m3\u001b[0m, \u001b[42m3\u001b[0m, \u001b[42m3\u001b[0m, \u001b[42m3\u001b[0m, \u001b[42m3\u001b[0m, \u001b[42m3\u001b[0m, \u001b[42m3\u001b[0m, \u001b[42m3\u001b[0m, \u001b[42m3\u001b[0m, \u001b[42m3\u001b[0m, \u001b[42m3\u001b[0m, \u001b[42m3\u001b[0m, \u001b[42m3\u001b[0m, \u001b[42m3\u001b[0m, := 60\n",
      "\u001b[42m3\u001b[0m, \u001b[42m3\u001b[0m, \u001b[42m3\u001b[0m, \u001b[42m3\u001b[0m, \u001b[42m3\u001b[0m, \u001b[42m3\u001b[0m, \u001b[42m3\u001b[0m, \u001b[42m3\u001b[0m, \u001b[42m3\u001b[0m, \u001b[42m3\u001b[0m, \u001b[42m3\u001b[0m, \u001b[42m3\u001b[0m, \u001b[42m3\u001b[0m, \u001b[42m3\u001b[0m, \u001b[42m3\u001b[0m, \u001b[42m3\u001b[0m, \u001b[42m3\u001b[0m, \u001b[42m3\u001b[0m, \u001b[42m3\u001b[0m, \u001b[42m3\u001b[0m, := 60\n"
     ]
    },
    {
     "data": {
      "text/plain": [
       "0"
      ]
     },
     "execution_count": 67,
     "metadata": {},
     "output_type": "execute_result"
    }
   ],
   "source": [
    "match_strategies(full_coorporate, full_coorporate)"
   ]
  },
  {
   "cell_type": "code",
   "execution_count": 69,
   "metadata": {},
   "outputs": [],
   "source": [
    "import random\n",
    "\n",
    "def randomly(p1_moves, p2_moves, move_num, total_moves):\n",
    "    return random.choice([True, False])\n"
   ]
  },
  {
   "cell_type": "code",
   "execution_count": 70,
   "metadata": {},
   "outputs": [
    {
     "name": "stdout",
     "output_type": "stream",
     "text": [
      "\u001b[41m5\u001b[0m, \u001b[41m5\u001b[0m, \u001b[41m1\u001b[0m, \u001b[41m1\u001b[0m, \u001b[41m1\u001b[0m, \u001b[41m5\u001b[0m, \u001b[41m1\u001b[0m, \u001b[41m1\u001b[0m, \u001b[42m3\u001b[0m, \u001b[41m5\u001b[0m, \u001b[41m5\u001b[0m, \u001b[41m5\u001b[0m, \u001b[41m1\u001b[0m, \u001b[42m0\u001b[0m, \u001b[41m1\u001b[0m, \u001b[42m3\u001b[0m, \u001b[42m0\u001b[0m, \u001b[41m5\u001b[0m, \u001b[41m1\u001b[0m, \u001b[41m5\u001b[0m, := 54\n",
      "\u001b[42m0\u001b[0m, \u001b[42m0\u001b[0m, \u001b[41m1\u001b[0m, \u001b[41m1\u001b[0m, \u001b[41m1\u001b[0m, \u001b[42m0\u001b[0m, \u001b[41m1\u001b[0m, \u001b[41m1\u001b[0m, \u001b[42m3\u001b[0m, \u001b[42m0\u001b[0m, \u001b[42m0\u001b[0m, \u001b[42m0\u001b[0m, \u001b[41m1\u001b[0m, \u001b[41m5\u001b[0m, \u001b[41m1\u001b[0m, \u001b[42m3\u001b[0m, \u001b[41m5\u001b[0m, \u001b[42m0\u001b[0m, \u001b[41m1\u001b[0m, \u001b[42m0\u001b[0m, := 24\n"
     ]
    },
    {
     "data": {
      "text/plain": [
       "30"
      ]
     },
     "execution_count": 70,
     "metadata": {},
     "output_type": "execute_result"
    }
   ],
   "source": [
    "match_strategies(randomly, randomly)"
   ]
  },
  {
   "cell_type": "code",
   "execution_count": 73,
   "metadata": {},
   "outputs": [
    {
     "name": "stdout",
     "output_type": "stream",
     "text": [
      "\u001b[42m0\u001b[0m, \u001b[42m0\u001b[0m, \u001b[41m1\u001b[0m, \u001b[41m1\u001b[0m, \u001b[41m1\u001b[0m, \u001b[42m0\u001b[0m, \u001b[41m1\u001b[0m, \u001b[42m0\u001b[0m, \u001b[41m1\u001b[0m, \u001b[42m0\u001b[0m, \u001b[42m0\u001b[0m, \u001b[42m0\u001b[0m, \u001b[42m0\u001b[0m, \u001b[41m1\u001b[0m, \u001b[41m1\u001b[0m, \u001b[42m0\u001b[0m, \u001b[42m0\u001b[0m, \u001b[42m0\u001b[0m, \u001b[42m0\u001b[0m, \u001b[42m0\u001b[0m, := 7\n",
      "\u001b[41m5\u001b[0m, \u001b[41m5\u001b[0m, \u001b[41m1\u001b[0m, \u001b[41m1\u001b[0m, \u001b[41m1\u001b[0m, \u001b[41m5\u001b[0m, \u001b[41m1\u001b[0m, \u001b[41m5\u001b[0m, \u001b[41m1\u001b[0m, \u001b[41m5\u001b[0m, \u001b[41m5\u001b[0m, \u001b[41m5\u001b[0m, \u001b[41m5\u001b[0m, \u001b[41m1\u001b[0m, \u001b[41m1\u001b[0m, \u001b[41m5\u001b[0m, \u001b[41m5\u001b[0m, \u001b[41m5\u001b[0m, \u001b[41m5\u001b[0m, \u001b[41m5\u001b[0m, := 72\n"
     ]
    },
    {
     "data": {
      "text/plain": [
       "-65"
      ]
     },
     "execution_count": 73,
     "metadata": {},
     "output_type": "execute_result"
    }
   ],
   "source": [
    "match_strategies(randomly, full_defect)"
   ]
  },
  {
   "cell_type": "code",
   "execution_count": 74,
   "metadata": {},
   "outputs": [
    {
     "name": "stdout",
     "output_type": "stream",
     "text": [
      "\u001b[42m3\u001b[0m, \u001b[42m3\u001b[0m, \u001b[42m3\u001b[0m, \u001b[42m3\u001b[0m, \u001b[42m3\u001b[0m, \u001b[41m5\u001b[0m, \u001b[42m3\u001b[0m, \u001b[41m5\u001b[0m, \u001b[42m3\u001b[0m, \u001b[42m3\u001b[0m, \u001b[42m3\u001b[0m, \u001b[42m3\u001b[0m, \u001b[42m3\u001b[0m, \u001b[42m3\u001b[0m, \u001b[42m3\u001b[0m, \u001b[42m3\u001b[0m, \u001b[41m5\u001b[0m, \u001b[41m5\u001b[0m, \u001b[41m5\u001b[0m, \u001b[41m5\u001b[0m, := 72\n",
      "\u001b[42m3\u001b[0m, \u001b[42m3\u001b[0m, \u001b[42m3\u001b[0m, \u001b[42m3\u001b[0m, \u001b[42m3\u001b[0m, \u001b[42m0\u001b[0m, \u001b[42m3\u001b[0m, \u001b[42m0\u001b[0m, \u001b[42m3\u001b[0m, \u001b[42m3\u001b[0m, \u001b[42m3\u001b[0m, \u001b[42m3\u001b[0m, \u001b[42m3\u001b[0m, \u001b[42m3\u001b[0m, \u001b[42m3\u001b[0m, \u001b[42m3\u001b[0m, \u001b[42m0\u001b[0m, \u001b[42m0\u001b[0m, \u001b[42m0\u001b[0m, \u001b[42m0\u001b[0m, := 42\n"
     ]
    },
    {
     "data": {
      "text/plain": [
       "30"
      ]
     },
     "execution_count": 74,
     "metadata": {},
     "output_type": "execute_result"
    }
   ],
   "source": [
    "match_strategies(randomly, full_coorporate)"
   ]
  },
  {
   "cell_type": "code",
   "execution_count": 75,
   "metadata": {},
   "outputs": [],
   "source": [
    "def tit_for_tat(p1_moves, p2_moves, move_num, total_moves):\n",
    "    if move_num == 0:\n",
    "        return True\n",
    "    \n",
    "    return p2_moves[move_num-1]"
   ]
  },
  {
   "cell_type": "code",
   "execution_count": 76,
   "metadata": {},
   "outputs": [
    {
     "name": "stdout",
     "output_type": "stream",
     "text": [
      "\u001b[42m3\u001b[0m, \u001b[42m3\u001b[0m, \u001b[42m3\u001b[0m, \u001b[42m3\u001b[0m, \u001b[42m3\u001b[0m, \u001b[42m3\u001b[0m, \u001b[42m3\u001b[0m, \u001b[42m3\u001b[0m, \u001b[42m3\u001b[0m, \u001b[42m3\u001b[0m, \u001b[42m3\u001b[0m, \u001b[42m3\u001b[0m, \u001b[42m3\u001b[0m, \u001b[42m3\u001b[0m, \u001b[42m3\u001b[0m, \u001b[42m3\u001b[0m, \u001b[42m3\u001b[0m, \u001b[42m3\u001b[0m, \u001b[42m3\u001b[0m, \u001b[42m3\u001b[0m, := 60\n",
      "\u001b[42m3\u001b[0m, \u001b[42m3\u001b[0m, \u001b[42m3\u001b[0m, \u001b[42m3\u001b[0m, \u001b[42m3\u001b[0m, \u001b[42m3\u001b[0m, \u001b[42m3\u001b[0m, \u001b[42m3\u001b[0m, \u001b[42m3\u001b[0m, \u001b[42m3\u001b[0m, \u001b[42m3\u001b[0m, \u001b[42m3\u001b[0m, \u001b[42m3\u001b[0m, \u001b[42m3\u001b[0m, \u001b[42m3\u001b[0m, \u001b[42m3\u001b[0m, \u001b[42m3\u001b[0m, \u001b[42m3\u001b[0m, \u001b[42m3\u001b[0m, \u001b[42m3\u001b[0m, := 60\n"
     ]
    },
    {
     "data": {
      "text/plain": [
       "0"
      ]
     },
     "execution_count": 76,
     "metadata": {},
     "output_type": "execute_result"
    }
   ],
   "source": [
    "match_strategies(tit_for_tat, full_coorporate)"
   ]
  },
  {
   "cell_type": "code",
   "execution_count": 77,
   "metadata": {},
   "outputs": [
    {
     "name": "stdout",
     "output_type": "stream",
     "text": [
      "\u001b[42m0\u001b[0m, \u001b[41m1\u001b[0m, \u001b[41m1\u001b[0m, \u001b[41m1\u001b[0m, \u001b[41m1\u001b[0m, \u001b[41m1\u001b[0m, \u001b[41m1\u001b[0m, \u001b[41m1\u001b[0m, \u001b[41m1\u001b[0m, \u001b[41m1\u001b[0m, \u001b[41m1\u001b[0m, \u001b[41m1\u001b[0m, \u001b[41m1\u001b[0m, \u001b[41m1\u001b[0m, \u001b[41m1\u001b[0m, \u001b[41m1\u001b[0m, \u001b[41m1\u001b[0m, \u001b[41m1\u001b[0m, \u001b[41m1\u001b[0m, \u001b[41m1\u001b[0m, := 19\n",
      "\u001b[41m5\u001b[0m, \u001b[41m1\u001b[0m, \u001b[41m1\u001b[0m, \u001b[41m1\u001b[0m, \u001b[41m1\u001b[0m, \u001b[41m1\u001b[0m, \u001b[41m1\u001b[0m, \u001b[41m1\u001b[0m, \u001b[41m1\u001b[0m, \u001b[41m1\u001b[0m, \u001b[41m1\u001b[0m, \u001b[41m1\u001b[0m, \u001b[41m1\u001b[0m, \u001b[41m1\u001b[0m, \u001b[41m1\u001b[0m, \u001b[41m1\u001b[0m, \u001b[41m1\u001b[0m, \u001b[41m1\u001b[0m, \u001b[41m1\u001b[0m, \u001b[41m1\u001b[0m, := 24\n"
     ]
    },
    {
     "data": {
      "text/plain": [
       "-5"
      ]
     },
     "execution_count": 77,
     "metadata": {},
     "output_type": "execute_result"
    }
   ],
   "source": [
    "match_strategies(tit_for_tat, full_defect)"
   ]
  },
  {
   "cell_type": "code",
   "execution_count": 78,
   "metadata": {},
   "outputs": [
    {
     "name": "stdout",
     "output_type": "stream",
     "text": [
      "\u001b[42m0\u001b[0m, \u001b[41m5\u001b[0m, \u001b[42m3\u001b[0m, \u001b[42m0\u001b[0m, \u001b[41m5\u001b[0m, \u001b[42m0\u001b[0m, \u001b[41m1\u001b[0m, \u001b[41m1\u001b[0m, \u001b[41m5\u001b[0m, \u001b[42m3\u001b[0m, \u001b[42m0\u001b[0m, \u001b[41m1\u001b[0m, \u001b[41m1\u001b[0m, \u001b[41m5\u001b[0m, \u001b[42m3\u001b[0m, \u001b[42m3\u001b[0m, \u001b[42m3\u001b[0m, \u001b[42m3\u001b[0m, \u001b[42m3\u001b[0m, \u001b[42m3\u001b[0m, := 48\n",
      "\u001b[41m5\u001b[0m, \u001b[42m0\u001b[0m, \u001b[42m3\u001b[0m, \u001b[41m5\u001b[0m, \u001b[42m0\u001b[0m, \u001b[41m5\u001b[0m, \u001b[41m1\u001b[0m, \u001b[41m1\u001b[0m, \u001b[42m0\u001b[0m, \u001b[42m3\u001b[0m, \u001b[41m5\u001b[0m, \u001b[41m1\u001b[0m, \u001b[41m1\u001b[0m, \u001b[42m0\u001b[0m, \u001b[42m3\u001b[0m, \u001b[42m3\u001b[0m, \u001b[42m3\u001b[0m, \u001b[42m3\u001b[0m, \u001b[42m3\u001b[0m, \u001b[42m3\u001b[0m, := 48\n"
     ]
    },
    {
     "data": {
      "text/plain": [
       "0"
      ]
     },
     "execution_count": 78,
     "metadata": {},
     "output_type": "execute_result"
    }
   ],
   "source": [
    "match_strategies(tit_for_tat, randomly)"
   ]
  },
  {
   "cell_type": "code",
   "execution_count": 79,
   "metadata": {},
   "outputs": [
    {
     "name": "stdout",
     "output_type": "stream",
     "text": [
      "\u001b[42m3\u001b[0m, \u001b[42m0\u001b[0m, \u001b[41m1\u001b[0m, \u001b[41m1\u001b[0m, \u001b[41m5\u001b[0m, \u001b[42m0\u001b[0m, \u001b[41m5\u001b[0m, \u001b[42m3\u001b[0m, \u001b[42m0\u001b[0m, \u001b[41m1\u001b[0m, \u001b[41m5\u001b[0m, \u001b[42m0\u001b[0m, \u001b[41m5\u001b[0m, \u001b[42m3\u001b[0m, \u001b[42m3\u001b[0m, \u001b[42m0\u001b[0m, \u001b[41m5\u001b[0m, \u001b[42m0\u001b[0m, \u001b[41m1\u001b[0m, \u001b[41m1\u001b[0m, := 42\n",
      "\u001b[42m3\u001b[0m, \u001b[41m5\u001b[0m, \u001b[41m1\u001b[0m, \u001b[41m1\u001b[0m, \u001b[42m0\u001b[0m, \u001b[41m5\u001b[0m, \u001b[42m0\u001b[0m, \u001b[42m3\u001b[0m, \u001b[41m5\u001b[0m, \u001b[41m1\u001b[0m, \u001b[42m0\u001b[0m, \u001b[41m5\u001b[0m, \u001b[42m0\u001b[0m, \u001b[42m3\u001b[0m, \u001b[42m3\u001b[0m, \u001b[41m5\u001b[0m, \u001b[42m0\u001b[0m, \u001b[41m5\u001b[0m, \u001b[41m1\u001b[0m, \u001b[41m1\u001b[0m, := 47\n"
     ]
    },
    {
     "data": {
      "text/plain": [
       "-5"
      ]
     },
     "execution_count": 79,
     "metadata": {},
     "output_type": "execute_result"
    }
   ],
   "source": [
    "match_strategies(tit_for_tat, randomly)"
   ]
  },
  {
   "cell_type": "code",
   "execution_count": null,
   "metadata": {},
   "outputs": [],
   "source": []
  }
 ],
 "metadata": {
  "kernelspec": {
   "display_name": "Python 3",
   "language": "python",
   "name": "python3"
  },
  "language_info": {
   "codemirror_mode": {
    "name": "ipython",
    "version": 3
   },
   "file_extension": ".py",
   "mimetype": "text/x-python",
   "name": "python",
   "nbconvert_exporter": "python",
   "pygments_lexer": "ipython3",
   "version": "3.8.10"
  }
 },
 "nbformat": 4,
 "nbformat_minor": 2
}
