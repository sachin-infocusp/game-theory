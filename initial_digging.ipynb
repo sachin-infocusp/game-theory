{
 "cells": [
  {
   "cell_type": "markdown",
   "metadata": {},
   "source": [
    "# Prisoner's dilemma"
   ]
  },
  {
   "cell_type": "markdown",
   "metadata": {},
   "source": [
    "### Game"
   ]
  },
  {
   "cell_type": "code",
   "execution_count": 13,
   "metadata": {},
   "outputs": [
    {
     "data": {
      "text/plain": [
       "((3, 3), (1, 1), (0, 5), (5, 0))"
      ]
     },
     "execution_count": 13,
     "metadata": {},
     "output_type": "execute_result"
    }
   ],
   "source": [
    "def game(\n",
    "    is_1_corporate: bool, \n",
    "    is_2_corporate: bool,\n",
    ") -> tuple:\n",
    "  \n",
    "  if is_1_corporate and is_2_corporate:\n",
    "    return 3,3\n",
    "  elif is_1_corporate and not is_2_corporate:\n",
    "    return 0,5\n",
    "  elif not is_1_corporate and is_2_corporate:\n",
    "    return 5,0\n",
    "  else:\n",
    "    return 1,1\n",
    "\n",
    "game(True, True), game(False, False), game(True, False), game(False, True)"
   ]
  },
  {
   "cell_type": "markdown",
   "metadata": {},
   "source": [
    "### Match"
   ]
  },
  {
   "cell_type": "code",
   "execution_count": 62,
   "metadata": {},
   "outputs": [
    {
     "name": "stdout",
     "output_type": "stream",
     "text": [
      "\u001b[41m5\u001b[0m, \u001b[41m1\u001b[0m, \u001b[42m3\u001b[0m, := 9\n",
      "\u001b[42m0\u001b[0m, \u001b[41m1\u001b[0m, \u001b[42m3\u001b[0m, := 4\n"
     ]
    }
   ],
   "source": [
    "from termcolor import colored\n",
    "\n",
    "def match(\n",
    "        num_games: int, \n",
    "        p1_moves:list, \n",
    "        p2_moves=list,\n",
    "        print_match=True,\n",
    "    )-> tuple:\n",
    "\n",
    "    assert num_games > 0\n",
    "    assert len(p1_moves) == num_games\n",
    "    assert len(p2_moves) == num_games\n",
    "\n",
    "    total_p1, total_p2 = 0, 0\n",
    "    p1_points, p2_points = [], []\n",
    "    for i in range(num_games):\n",
    "        p1, p2 = game(p1_moves[i], p2_moves[i])\n",
    "        p1_points.append(p1)\n",
    "        p2_points.append(p2)\n",
    "        total_p1 += p1\n",
    "        total_p2 += p2\n",
    "    \n",
    "    if print_match:\n",
    "        for i in range(num_games):\n",
    "            print(f\"{colored(p1_points[i], on_color=get_on_color(p1_moves[i]))}, \", end=\"\")\n",
    "        print(f':= {total_p1}')\n",
    "        for i in range(num_games):\n",
    "            print(f\"{colored(p2_points[i], on_color=get_on_color(p2_moves[i]))}, \", end=\"\")\n",
    "        print(f':= {total_p2}')\n",
    "    \n",
    "    return total_p1, total_p2\n",
    "\n",
    "def get_on_color(choice: bool):\n",
    "    return 'on_green' if choice else 'on_red'\n",
    "\n",
    "p1, p2 = match(3,\n",
    "      [False, False, True],\n",
    "      [True, False, True])"
   ]
  },
  {
   "cell_type": "code",
   "execution_count": null,
   "metadata": {},
   "outputs": [],
   "source": []
  }
 ],
 "metadata": {
  "kernelspec": {
   "display_name": "Python 3",
   "language": "python",
   "name": "python3"
  },
  "language_info": {
   "codemirror_mode": {
    "name": "ipython",
    "version": 3
   },
   "file_extension": ".py",
   "mimetype": "text/x-python",
   "name": "python",
   "nbconvert_exporter": "python",
   "pygments_lexer": "ipython3",
   "version": "3.8.10"
  }
 },
 "nbformat": 4,
 "nbformat_minor": 2
}
